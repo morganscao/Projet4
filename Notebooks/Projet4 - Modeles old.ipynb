{
 "cells": [
  {
   "cell_type": "markdown",
   "metadata": {},
   "source": [
    "# P4"
   ]
  },
  {
   "cell_type": "markdown",
   "metadata": {},
   "source": [
    "## Récupération des données"
   ]
  },
  {
   "cell_type": "code",
   "execution_count": 36,
   "metadata": {
    "scrolled": true
   },
   "outputs": [
    {
     "name": "stdout",
     "output_type": "stream",
     "text": [
      "(433298, 9)\n",
      "Index(['MONTH', 'DAY_OF_MONTH', 'DAY_OF_WEEK', 'UNIQUE_CARRIER',\n",
      "       'ORIGIN_AIRPORT_ID', 'ORIGIN_CITY_NAME', 'ARR_DELAY', 'HDAYS',\n",
      "       'DEP_HOUR'],\n",
      "      dtype='object')\n"
     ]
    }
   ],
   "source": [
    "import pandas as pd\n",
    "import numpy as np\n",
    "import time\n",
    "import os\n",
    "\n",
    "# Option pour ne pas tout charger\n",
    "ALLFILES = False\n",
    "CT_DIR_DATA = 'C:\\Work\\OpenClassrooms\\data\\P4/'\n",
    "\n",
    "filename = '2016_'\n",
    "# Récupération du 1er fichier\n",
    "dataraw = pd.read_csv(CT_DIR_DATA + filename + '01_ready.csv', sep=\"\\t\", encoding='utf-8')\n",
    "print(dataraw.shape)\n",
    "print(dataraw.columns)\n",
    "\n",
    "if ALLFILES:\n",
    "    # Concaténation de toutes les données\n",
    "    for i in range(2, 13):\n",
    "        n = CT_DIR_DATA + filename + '%0*d' % (2, i) + '_ready.csv'\n",
    "        #print('reading', n, '...')\n",
    "        f = pd.read_csv(n, sep=\"\\t\", encoding='utf-8')\n",
    "        print(n, f.shape)\n",
    "        print(f.columns)\n",
    "        dataraw = dataraw.append(f)\n",
    "        print(dataraw.shape)\n"
   ]
  },
  {
   "cell_type": "markdown",
   "metadata": {},
   "source": [
    "## GO"
   ]
  },
  {
   "cell_type": "code",
   "execution_count": null,
   "metadata": {
    "collapsed": true
   },
   "outputs": [],
   "source": []
  },
  {
   "cell_type": "code",
   "execution_count": null,
   "metadata": {
    "collapsed": true
   },
   "outputs": [],
   "source": []
  },
  {
   "cell_type": "code",
   "execution_count": null,
   "metadata": {
    "collapsed": true
   },
   "outputs": [],
   "source": []
  },
  {
   "cell_type": "code",
   "execution_count": null,
   "metadata": {
    "collapsed": true
   },
   "outputs": [],
   "source": [
    "improvements = list()\n",
    "for z in range(1000):\n",
    " SGD.partial_fit(X_train, y_train)\n",
    " improvements.append(mean_squared_error(y_test, SGD.predict(X_test)))"
   ]
  },
  {
   "cell_type": "code",
   "execution_count": null,
   "metadata": {
    "collapsed": true
   },
   "outputs": [],
   "source": [
    "import matplotlib.pyplot as plt\n",
    "plt.subplot(1,2,1)\n",
    "plt.plot(range(1,11),np.abs(improvements[:10]),’o--’)\n",
    "plt.xlabel(‘Partial fit initial iterations’)\n",
    "plt.ylabel(‘Test set mean squared error’)\n",
    "plt.subplot(1,2,2)\n",
    "plt.plot(range(100,1000,100),np.abs(improvements[100:1000:100]),’o--’)\n",
    "plt.xlabel(‘Partial fit ending iterations’)\n",
    "plt.show()"
   ]
  },
  {
   "cell_type": "code",
   "execution_count": null,
   "metadata": {
    "collapsed": true
   },
   "outputs": [],
   "source": []
  },
  {
   "cell_type": "code",
   "execution_count": null,
   "metadata": {
    "collapsed": true
   },
   "outputs": [],
   "source": []
  },
  {
   "cell_type": "code",
   "execution_count": null,
   "metadata": {
    "collapsed": true
   },
   "outputs": [],
   "source": []
  },
  {
   "cell_type": "markdown",
   "metadata": {},
   "source": [
    "## GO"
   ]
  },
  {
   "cell_type": "code",
   "execution_count": null,
   "metadata": {
    "collapsed": true
   },
   "outputs": [],
   "source": []
  },
  {
   "cell_type": "code",
   "execution_count": null,
   "metadata": {
    "collapsed": true
   },
   "outputs": [],
   "source": [
    "#x_train.loc[:, 0:2] = x_train_numerical.copy()\n",
    "x_test.loc[:, 0:2] = x_test_numerical\n"
   ]
  },
  {
   "cell_type": "markdown",
   "metadata": {},
   "source": [
    "## Tests d'autres modèles"
   ]
  },
  {
   "cell_type": "code",
   "execution_count": null,
   "metadata": {
    "collapsed": true
   },
   "outputs": [],
   "source": [
    "GridSearchCV(cv=5,estimator=SGDRegressor(alpha=0.001, epsilon=0.1, eta0=0.01, fit_intercept=True,\n",
    "    l1_ratio=0.15, learning_rate='invscaling', loss='squared_loss',\n",
    "    n_iter=5, penalty='l2', power_t=0.25, random_state=0, shuffle=False,\n",
    "    verbose=0, warm_start=False),\n",
    "    fit_params={}, iid=True, n_jobs=1,\n",
    "    param_grid={'alpha': [  1.00000e-01,   1.00000e-02,   1.00000e-03,   1.00000e-04, 1.00000e-05,   1.00000e-06]},\n",
    "    pre_dispatch='2*n_jobs', refit=True, \n",
    "    scoring='neg_mean_absolute_error', verbose=0)"
   ]
  },
  {
   "cell_type": "code",
   "execution_count": null,
   "metadata": {
    "collapsed": true
   },
   "outputs": [],
   "source": [
    "y_true, y_pred = y_test, SGD_model.predict(x_test) # Predict on our test set   \n",
    "print ('Mean absolute error of SGD regression : MAE = %.3f' % mean_absolute_error(y_true, y_pred))\n",
    "print (\"RMSE : %.3f\" % np.sqrt(mean_squared_error(y_true, y_pred)))"
   ]
  },
  {
   "cell_type": "code",
   "execution_count": null,
   "metadata": {
    "collapsed": true
   },
   "outputs": [],
   "source": [
    "from sklearn.linear_model import LinearRegression\n",
    "clf = GridSearchCV(LinearRegression(), {}, cv=10, refit=True)\n",
    "clf.fit(x_train, y_train)\n",
    "y_true, y_pred = y_test, clf.best_estimator_.predict(x_test)\n",
    "print(\"Erreur du modèle linéaire : MAE = %.3f\" % mean_absolute_error(y_true, y_pred))\n",
    "print (\"RMSE : %.3f\" % np.sqrt(mean_squared_error(y_true, y_pred)))"
   ]
  },
  {
   "cell_type": "code",
   "execution_count": null,
   "metadata": {
    "collapsed": true
   },
   "outputs": [],
   "source": [
    "from sklearn.linear_model import ElasticNet\n",
    "enet = ElasticNet(l1_ratio=0.7, alpha=0.001)\n",
    "enet.fit(x_train, y_train)\n",
    "y_true, y_pred = y_test, enet.predict(x_test)\n",
    "print(\"Erreur ElasticNet : MAE = %.3f\" % mean_absolute_error(y_true, y_pred))\n",
    "print (\"RMSE : %.3f\" % np.sqrt(mean_squared_error(y_true, y_pred)))"
   ]
  },
  {
   "cell_type": "code",
   "execution_count": null,
   "metadata": {
    "collapsed": true,
    "scrolled": false
   },
   "outputs": [],
   "source": [
    "from sklearn.linear_model import ElasticNetCV\n",
    "l1_ratios = [0.45, 0.5, 0.55, 0.6, 0.65]\n",
    "min_MAE = 100\n",
    "for r in l1_ratios:\n",
    "    enetCV = ElasticNetCV(cv=5, l1_ratio=r, verbose=1)\n",
    "    enetCV.fit(x_train, y_train)\n",
    "    y_true, y_pred = y_test, enetCV.predict(x_test)\n",
    "    mae = mean_absolute_error(y_true, y_pred)\n",
    "    if mae < min_MAE:\n",
    "        min_MAE = mae\n",
    "        best_l1 = r\n",
    "        best_alpha = enetCV.alpha_\n",
    "        print(\"ElasticNetCV : MAE = %.3f\" % min_MAE)\n",
    "        print(\"alpha=\", best_alpha)\n",
    "        print(\"l1 ratio=\", best_l1)\n"
   ]
  },
  {
   "cell_type": "code",
   "execution_count": null,
   "metadata": {
    "collapsed": true
   },
   "outputs": [],
   "source": []
  },
  {
   "cell_type": "code",
   "execution_count": null,
   "metadata": {
    "collapsed": true,
    "scrolled": true
   },
   "outputs": [],
   "source": [
    "from sklearn.linear_model import ElasticNet\n",
    "alphas = np.logspace(-2, -1, 20)\n",
    "print(\"alphas=\", alphas)\n",
    "enet = ElasticNet(l1_ratio=0.7)\n",
    "for alpha in alphas:\n",
    "    enet.set_params(alpha=alpha)\n",
    "    enet.fit(x_train, y_train)\n",
    "    #print(enet.score(x_train, y_train))\n",
    "    #print(enet.score(x_test, y_test))\n",
    "    y_true, y_pred = y_test, enet.predict(x_test)\n",
    "    print('ElasticNet : alpha=%.3f, MAE=%.3f' % (alpha, mean_absolute_error(y_true, y_pred)))\n"
   ]
  },
  {
   "cell_type": "code",
   "execution_count": null,
   "metadata": {
    "collapsed": true
   },
   "outputs": [],
   "source": []
  },
  {
   "cell_type": "code",
   "execution_count": null,
   "metadata": {
    "collapsed": true
   },
   "outputs": [],
   "source": [
    "# Méthode naive par la moyenne pour comparer\n",
    "from sklearn.dummy import DummyRegressor\n",
    "dum = DummyRegressor(strategy='mean')\n",
    "# Entraînement\n",
    "dum.fit(x_train, y_train)\n",
    "# Evaluate\n",
    "y_true, y_pred = y_test, dum.predict(x_test)\n",
    "print (\"Méthode naive par la moyenne : MAE = %.3f\" % mean_absolute_error(y_true, y_pred))\n",
    "print (\"RMSE : %.3f\" % np.sqrt(mean_squared_error(y_true, y_pred)))"
   ]
  },
  {
   "cell_type": "markdown",
   "metadata": {},
   "source": [
    "## Test de génération de dates"
   ]
  },
  {
   "cell_type": "code",
   "execution_count": null,
   "metadata": {
    "collapsed": true
   },
   "outputs": [],
   "source": [
    "import datetime\n",
    "start = datetime.datetime.strptime(\"01-01-2016\", \"%d-%m-%Y\")\n",
    "end = datetime.datetime.strptime(\"01-01-2017\", \"%d-%m-%Y\")\n",
    "date_generated = [start + datetime.timedelta(days=x) for x in range(0, (end-start).days)]\n",
    "date_generated"
   ]
  }
 ],
 "metadata": {
  "kernelspec": {
   "display_name": "Python 3",
   "language": "python",
   "name": "python3"
  },
  "language_info": {
   "codemirror_mode": {
    "name": "ipython",
    "version": 3
   },
   "file_extension": ".py",
   "mimetype": "text/x-python",
   "name": "python",
   "nbconvert_exporter": "python",
   "pygments_lexer": "ipython3",
   "version": "3.6.3"
  }
 },
 "nbformat": 4,
 "nbformat_minor": 2
}
