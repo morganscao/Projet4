{
 "cells": [
  {
   "cell_type": "markdown",
   "metadata": {},
   "source": [
    "# P4"
   ]
  },
  {
   "cell_type": "markdown",
   "metadata": {},
   "source": [
    "## Récupération des données"
   ]
  },
  {
   "cell_type": "code",
   "execution_count": 3,
   "metadata": {
    "scrolled": true
   },
   "outputs": [
    {
     "name": "stdout",
     "output_type": "stream",
     "text": [
      "(433298, 9)\n",
      "Index(['MONTH', 'DAY_OF_MONTH', 'DAY_OF_WEEK', 'UNIQUE_CARRIER',\n",
      "       'ORIGIN_AIRPORT_ID', 'ORIGIN_CITY_NAME', 'ARR_DELAY', 'HDAYS',\n",
      "       'DEP_HOUR'],\n",
      "      dtype='object')\n",
      "C:\\Work\\OpenClassrooms\\data\\P4/2016_02_ready.csv (416097, 12)\n",
      "Index(['MONTH', 'DAY_OF_MONTH', 'DAY_OF_WEEK', 'UNIQUE_CARRIER',\n",
      "       'ORIGIN_AIRPORT_ID', 'DEST_AIRPORT_ID', 'ARR_DELAY', 'DISTANCE',\n",
      "       'CRS_ELAPSED_TIME', 'HDAYS', 'ARR_HOUR', 'DEP_HOUR'],\n",
      "      dtype='object')\n",
      "(849395, 13)\n",
      "C:\\Work\\OpenClassrooms\\data\\P4/2016_03_ready.csv (473286, 12)\n",
      "Index(['MONTH', 'DAY_OF_MONTH', 'DAY_OF_WEEK', 'UNIQUE_CARRIER',\n",
      "       'ORIGIN_AIRPORT_ID', 'DEST_AIRPORT_ID', 'ARR_DELAY', 'DISTANCE',\n",
      "       'CRS_ELAPSED_TIME', 'HDAYS', 'ARR_HOUR', 'DEP_HOUR'],\n",
      "      dtype='object')\n",
      "(1322681, 13)\n",
      "C:\\Work\\OpenClassrooms\\data\\P4/2016_04_ready.csv (474753, 12)\n",
      "Index(['MONTH', 'DAY_OF_MONTH', 'DAY_OF_WEEK', 'UNIQUE_CARRIER',\n",
      "       'ORIGIN_AIRPORT_ID', 'DEST_AIRPORT_ID', 'ARR_DELAY', 'DISTANCE',\n",
      "       'CRS_ELAPSED_TIME', 'HDAYS', 'ARR_HOUR', 'DEP_HOUR'],\n",
      "      dtype='object')\n",
      "(1797434, 13)\n",
      "C:\\Work\\OpenClassrooms\\data\\P4/2016_05_ready.csv (475499, 12)\n",
      "Index(['MONTH', 'DAY_OF_MONTH', 'DAY_OF_WEEK', 'UNIQUE_CARRIER',\n",
      "       'ORIGIN_AIRPORT_ID', 'DEST_AIRPORT_ID', 'ARR_DELAY', 'DISTANCE',\n",
      "       'CRS_ELAPSED_TIME', 'HDAYS', 'ARR_HOUR', 'DEP_HOUR'],\n",
      "      dtype='object')\n",
      "(2272933, 13)\n",
      "C:\\Work\\OpenClassrooms\\data\\P4/2016_06_ready.csv (480916, 12)\n",
      "Index(['MONTH', 'DAY_OF_MONTH', 'DAY_OF_WEEK', 'UNIQUE_CARRIER',\n",
      "       'ORIGIN_AIRPORT_ID', 'DEST_AIRPORT_ID', 'ARR_DELAY', 'DISTANCE',\n",
      "       'CRS_ELAPSED_TIME', 'HDAYS', 'ARR_HOUR', 'DEP_HOUR'],\n",
      "      dtype='object')\n",
      "(2753849, 13)\n",
      "C:\\Work\\OpenClassrooms\\data\\P4/2016_07_ready.csv (491198, 12)\n",
      "Index(['MONTH', 'DAY_OF_MONTH', 'DAY_OF_WEEK', 'UNIQUE_CARRIER',\n",
      "       'ORIGIN_AIRPORT_ID', 'DEST_AIRPORT_ID', 'ARR_DELAY', 'DISTANCE',\n",
      "       'CRS_ELAPSED_TIME', 'HDAYS', 'ARR_HOUR', 'DEP_HOUR'],\n",
      "      dtype='object')\n",
      "(3245047, 13)\n",
      "C:\\Work\\OpenClassrooms\\data\\P4/2016_08_ready.csv (489965, 12)\n",
      "Index(['MONTH', 'DAY_OF_MONTH', 'DAY_OF_WEEK', 'UNIQUE_CARRIER',\n",
      "       'ORIGIN_AIRPORT_ID', 'DEST_AIRPORT_ID', 'ARR_DELAY', 'DISTANCE',\n",
      "       'CRS_ELAPSED_TIME', 'HDAYS', 'ARR_HOUR', 'DEP_HOUR'],\n",
      "      dtype='object')\n",
      "(3735012, 13)\n",
      "C:\\Work\\OpenClassrooms\\data\\P4/2016_09_ready.csv (452558, 12)\n",
      "Index(['MONTH', 'DAY_OF_MONTH', 'DAY_OF_WEEK', 'UNIQUE_CARRIER',\n",
      "       'ORIGIN_AIRPORT_ID', 'DEST_AIRPORT_ID', 'ARR_DELAY', 'DISTANCE',\n",
      "       'CRS_ELAPSED_TIME', 'HDAYS', 'ARR_HOUR', 'DEP_HOUR'],\n",
      "      dtype='object')\n",
      "(4187570, 13)\n",
      "C:\\Work\\OpenClassrooms\\data\\P4/2016_10_ready.csv (467486, 12)\n",
      "Index(['MONTH', 'DAY_OF_MONTH', 'DAY_OF_WEEK', 'UNIQUE_CARRIER',\n",
      "       'ORIGIN_AIRPORT_ID', 'DEST_AIRPORT_ID', 'ARR_DELAY', 'DISTANCE',\n",
      "       'CRS_ELAPSED_TIME', 'HDAYS', 'ARR_HOUR', 'DEP_HOUR'],\n",
      "      dtype='object')\n",
      "(4655056, 13)\n",
      "C:\\Work\\OpenClassrooms\\data\\P4/2016_11_ready.csv (448911, 12)\n",
      "Index(['MONTH', 'DAY_OF_MONTH', 'DAY_OF_WEEK', 'UNIQUE_CARRIER',\n",
      "       'ORIGIN_AIRPORT_ID', 'DEST_AIRPORT_ID', 'ARR_DELAY', 'DISTANCE',\n",
      "       'CRS_ELAPSED_TIME', 'HDAYS', 'ARR_HOUR', 'DEP_HOUR'],\n",
      "      dtype='object')\n",
      "(5103967, 13)\n",
      "C:\\Work\\OpenClassrooms\\data\\P4/2016_12_ready.csv (452229, 12)\n",
      "Index(['MONTH', 'DAY_OF_MONTH', 'DAY_OF_WEEK', 'UNIQUE_CARRIER',\n",
      "       'ORIGIN_AIRPORT_ID', 'DEST_AIRPORT_ID', 'ARR_DELAY', 'DISTANCE',\n",
      "       'CRS_ELAPSED_TIME', 'HDAYS', 'ARR_HOUR', 'DEP_HOUR'],\n",
      "      dtype='object')\n",
      "(5556196, 13)\n"
     ]
    }
   ],
   "source": [
    "import pandas as pd\n",
    "import numpy as np\n",
    "import time\n",
    "import os\n",
    "\n",
    "# Option pour ne pas tout charger\n",
    "ALLFILES = True\n",
    "CT_DIR_DATA = 'C:\\Work\\OpenClassrooms\\data\\P4/'\n",
    "\n",
    "filename = '2016_'\n",
    "# Récupération du 1er fichier\n",
    "dataraw = pd.read_csv(CT_DIR_DATA + filename + '01_ready.csv', sep=\"\\t\", encoding='utf-8')\n",
    "print(dataraw.shape)\n",
    "print(dataraw.columns)\n",
    "\n",
    "if ALLFILES:\n",
    "    # Concaténation de toutes les données\n",
    "    for i in range(2, 13):\n",
    "        n = CT_DIR_DATA + filename + '%0*d' % (2, i) + '_ready.csv'\n",
    "        #print('reading', n, '...')\n",
    "        f = pd.read_csv(n, sep=\"\\t\", encoding='utf-8')\n",
    "        print(n, f.shape)\n",
    "        print(f.columns)\n",
    "        dataraw = dataraw.append(f)\n",
    "        print(dataraw.shape)\n"
   ]
  },
  {
   "cell_type": "code",
   "execution_count": 4,
   "metadata": {
    "collapsed": true
   },
   "outputs": [],
   "source": [
    "# Méthodes d'import export\n",
    "import pickle\n",
    "from sklearn.externals import joblib\n",
    "CT_DIR = '../flightdelay/save/'\n",
    "\n",
    "def save_obj(obj, name):\n",
    "    fn = CT_DIR + name + '.pkl'\n",
    "    try:\n",
    "        os.remove(fn)\n",
    "    except OSError:\n",
    "        pass\n",
    "    with open(fn, 'wb+') as f:\n",
    "        pickle.dump(obj, f, pickle.HIGHEST_PROTOCOL)\n",
    "    print(fn, 'saved')\n",
    "\n",
    "def load_obj(name):\n",
    "    with open(CT_DIR + name + '.pkl', 'rb') as f:\n",
    "        return pickle.load(f)\n",
    "    \n",
    "def save_sklearn_obj(obj, name):\n",
    "    fn = CT_DIR + name + '.pkl'\n",
    "    try:\n",
    "        os.remove(fn)\n",
    "    except OSError:\n",
    "        pass\n",
    "    joblib.dump(obj, fn)\n",
    "    print(fn, 'saved')\n",
    "\n",
    "def load_sklearn_obj(name):\n",
    "    return joblib.load(CT_DIR + name + '.pkl')"
   ]
  },
  {
   "cell_type": "code",
   "execution_count": 5,
   "metadata": {},
   "outputs": [
    {
     "name": "stdout",
     "output_type": "stream",
     "text": [
      "web/flightdelay/save/model_carrier.pkl saved\n"
     ]
    }
   ],
   "source": [
    "# Export de la liste des companies\n",
    "if ALLFILES:\n",
    "    save_obj(list(sorted(set(dataraw['UNIQUE_CARRIER']))), 'model_carrier')\n"
   ]
  },
  {
   "cell_type": "markdown",
   "metadata": {},
   "source": [
    "## Préparation au calcul"
   ]
  },
  {
   "cell_type": "code",
   "execution_count": 4,
   "metadata": {
    "collapsed": true
   },
   "outputs": [],
   "source": [
    "# Conversion pour les noms des colonnes\n",
    "dataraw[['ORIGIN_AIRPORT_ID']] = dataraw[['ORIGIN_AIRPORT_ID']].astype(np.int64)"
   ]
  },
  {
   "cell_type": "code",
   "execution_count": 5,
   "metadata": {
    "collapsed": true,
    "scrolled": true
   },
   "outputs": [],
   "source": [
    "from sklearn.linear_model import SGDRegressor\n",
    "from sklearn.model_selection import GridSearchCV, cross_val_score\n",
    "from sklearn.metrics import mean_absolute_error\n",
    "from sklearn.metrics import mean_squared_error\n",
    "\n",
    "def TestModel(p_df, c):\n",
    "\n",
    "    # On fait un choix de colonnes restreint en pensant à ce que l'utilisateur pourra renseigner dans la page web\n",
    "    # Les numériques\n",
    "    scalingDF = p_df[['HDAYS']].astype('float')\n",
    "    # Les catégories\n",
    "    categDF = p_df[['MONTH', 'ORIGIN_AIRPORT_ID', 'DEP_HOUR', 'DAY_OF_WEEK']]\n",
    "    \n",
    "    y_final = p_df['ARR_DELAY'].values\n",
    "    y_final.mean()        \n",
    "    \n",
    "    # Binarisation en dummies pour garder la maitrise des noms des colonnes\n",
    "    categDF_encoded = pd.get_dummies(categDF.astype(np.str))\n",
    "\n",
    "    # Concaténation\n",
    "    x_final = pd.concat([scalingDF, categDF_encoded], axis=1)\n",
    "\n",
    "    # Sauvegarde de la liste des colonnes pour le web\n",
    "    x_save = x_final[x_final.HDAYS==-1]\n",
    "    save_obj(x_save, 'model_columns_'+c)\n",
    "\n",
    "    from sklearn.model_selection import train_test_split\n",
    "    x_train, x_test, y_train, y_test = train_test_split(x_final,y_final,test_size = 0.2,random_state = 0)\n",
    "\n",
    "    # Seules les xnum premières colonnes sont numériques\n",
    "    xnum = scalingDF.shape[1]\n",
    "    x_train_numerical = x_train.iloc[:, 0:xnum]\n",
    "    x_test_numerical = x_test.iloc[:, 0:xnum]\n",
    "\n",
    "    # Création d'un scaler pour les valeurs numériques \n",
    "    from sklearn.preprocessing import StandardScaler\n",
    "    scaler = StandardScaler()\n",
    "    # Qu'on entraine avec le training set\n",
    "    scaler.fit(x_train_numerical) \n",
    "\n",
    "    # Sauvegarde pour le web\n",
    "    save_sklearn_obj(scaler, 'model_scaler_'+c)\n",
    "\n",
    "    x_train_numerical = scaler.transform(x_train_numerical)\n",
    "    x_test_numerical = scaler.transform(x_test_numerical)\n",
    "\n",
    "    x_train = x_train.copy()\n",
    "    x_test = x_test.copy()\n",
    "    x_train.loc[:, 0:xnum] = x_train_numerical\n",
    "    x_test.loc[:, 0:xnum] = x_test_numerical\n",
    "\n",
    "    min_MAE = 100\n",
    "\n",
    "    # SGDRegressor est meilleur que:\n",
    "    # LinearRegresssion\n",
    "    # ElasticNetCV\n",
    "    # DummyRegressor (heureusement !)\n",
    "    \n",
    "    # Le meilleur résulat est toujours avec alpha=10e-6\n",
    "    SGD_params = [\n",
    "#        {'alpha': 10.0**-np.arange(4,7)},\n",
    "        {'alpha': 10.0**-np.arange(6,7)},\n",
    "    ]\n",
    "\n",
    "    # huber bcp mieux que squared_loss\n",
    "    # et epsilon_insensitive encore mieux\n",
    "    #loss_values = ['squared_loss', 'huber', 'epsilon_insensitive', 'squared_epsilon_insensitive']\n",
    "    loss_values = ['epsilon_insensitive']\n",
    "\n",
    "    # Le meilleur ration est toujours 0 !\n",
    "    #l1_ratios = [0, 0.1, 0.2]\n",
    "    l1_ratios = [0]\n",
    "\n",
    "    for k, loss in enumerate(loss_values):\n",
    "        for j, ratio in enumerate(l1_ratios):\n",
    "            print('Lancement du calcul avec loss =', loss, ', ratio =', ratio)\n",
    "            try:\n",
    "                model = SGDRegressor(loss=loss, l1_ratio=ratio, penalty='elasticnet', random_state = 0, max_iter=1000)\n",
    "                SGD_model = GridSearchCV(model, SGD_params, scoring = 'neg_mean_absolute_error', cv = 5)\n",
    "                SGD_model.fit(x_train, y_train)\n",
    "                # Prédiction sur le test set\n",
    "                y_true, y_pred = y_test, SGD_model.predict(x_test)\n",
    "                mae = mean_absolute_error(y_true, y_pred)\n",
    "                if mae < min_MAE:\n",
    "                    min_MAE = mae\n",
    "                    print ('SGD regression : MAE = %.3f' % mae)\n",
    "                    print(\"best_params_=\", SGD_model.best_params_)\n",
    "                    # Sauvegarde pour le web\n",
    "                    save_sklearn_obj(SGD_model, 'model_SGD_'+c)\n",
    "\n",
    "            except Exception as e:\n",
    "                print('Erreur : ', e)\n",
    "            print(time.ctime())\n",
    "\n",
    "    print('Done!')\n"
   ]
  },
  {
   "cell_type": "markdown",
   "metadata": {},
   "source": [
    "## GO"
   ]
  },
  {
   "cell_type": "code",
   "execution_count": 6,
   "metadata": {
    "scrolled": false
   },
   "outputs": [
    {
     "name": "stdout",
     "output_type": "stream",
     "text": [
      "AA\n",
      "(873209, 13)\n",
      "web/flightdelay/save/model_cols_AA.pkl saved\n",
      "web/flightdelay/save/model_scaler_AA.pkl saved\n"
     ]
    },
    {
     "name": "stderr",
     "output_type": "stream",
     "text": [
      "C:\\ProgramData\\Anaconda3\\lib\\site-packages\\pandas\\core\\indexing.py:517: SettingWithCopyWarning: \n",
      "A value is trying to be set on a copy of a slice from a DataFrame.\n",
      "Try using .loc[row_indexer,col_indexer] = value instead\n",
      "\n",
      "See the caveats in the documentation: http://pandas.pydata.org/pandas-docs/stable/indexing.html#indexing-view-versus-copy\n",
      "  self.obj[item] = s\n"
     ]
    },
    {
     "name": "stdout",
     "output_type": "stream",
     "text": [
      "Lancement du calcul avec loss = epsilon_insensitive , ratio = 0\n",
      "SGD regression : MAE = 19.989\n",
      "best_params_= {'alpha': 9.9999999999999995e-07}\n",
      "web/flightdelay/save/model_SGD_AA.pkl saved\n",
      "Thu Feb  8 01:32:02 2018\n",
      "Done!\n",
      "AS\n",
      "(165641, 13)\n",
      "web/flightdelay/save/model_cols_AS.pkl saved\n",
      "web/flightdelay/save/model_scaler_AS.pkl saved\n"
     ]
    },
    {
     "name": "stderr",
     "output_type": "stream",
     "text": [
      "C:\\ProgramData\\Anaconda3\\lib\\site-packages\\pandas\\core\\indexing.py:517: SettingWithCopyWarning: \n",
      "A value is trying to be set on a copy of a slice from a DataFrame.\n",
      "Try using .loc[row_indexer,col_indexer] = value instead\n",
      "\n",
      "See the caveats in the documentation: http://pandas.pydata.org/pandas-docs/stable/indexing.html#indexing-view-versus-copy\n",
      "  self.obj[item] = s\n"
     ]
    },
    {
     "name": "stdout",
     "output_type": "stream",
     "text": [
      "Lancement du calcul avec loss = epsilon_insensitive , ratio = 0\n",
      "SGD regression : MAE = 14.370\n",
      "best_params_= {'alpha': 9.9999999999999995e-07}\n",
      "web/flightdelay/save/model_SGD_AS.pkl saved\n",
      "Thu Feb  8 01:42:02 2018\n",
      "Done!\n",
      "B6\n",
      "(280251, 13)\n",
      "web/flightdelay/save/model_cols_B6.pkl saved\n",
      "web/flightdelay/save/model_scaler_B6.pkl saved\n"
     ]
    },
    {
     "name": "stderr",
     "output_type": "stream",
     "text": [
      "C:\\ProgramData\\Anaconda3\\lib\\site-packages\\pandas\\core\\indexing.py:517: SettingWithCopyWarning: \n",
      "A value is trying to be set on a copy of a slice from a DataFrame.\n",
      "Try using .loc[row_indexer,col_indexer] = value instead\n",
      "\n",
      "See the caveats in the documentation: http://pandas.pydata.org/pandas-docs/stable/indexing.html#indexing-view-versus-copy\n",
      "  self.obj[item] = s\n"
     ]
    },
    {
     "name": "stdout",
     "output_type": "stream",
     "text": [
      "Lancement du calcul avec loss = epsilon_insensitive , ratio = 0\n",
      "SGD regression : MAE = 23.572\n",
      "best_params_= {'alpha': 9.9999999999999995e-07}\n",
      "web/flightdelay/save/model_SGD_B6.pkl saved\n",
      "Thu Feb  8 02:01:10 2018\n",
      "Done!\n",
      "DL\n",
      "(964797, 13)\n",
      "web/flightdelay/save/model_cols_DL.pkl saved\n",
      "web/flightdelay/save/model_scaler_DL.pkl saved\n"
     ]
    },
    {
     "name": "stderr",
     "output_type": "stream",
     "text": [
      "C:\\ProgramData\\Anaconda3\\lib\\site-packages\\pandas\\core\\indexing.py:517: SettingWithCopyWarning: \n",
      "A value is trying to be set on a copy of a slice from a DataFrame.\n",
      "Try using .loc[row_indexer,col_indexer] = value instead\n",
      "\n",
      "See the caveats in the documentation: http://pandas.pydata.org/pandas-docs/stable/indexing.html#indexing-view-versus-copy\n",
      "  self.obj[item] = s\n"
     ]
    },
    {
     "name": "stdout",
     "output_type": "stream",
     "text": [
      "Lancement du calcul avec loss = epsilon_insensitive , ratio = 0\n",
      "SGD regression : MAE = 17.268\n",
      "best_params_= {'alpha': 9.9999999999999995e-07}\n",
      "web/flightdelay/save/model_SGD_DL.pkl saved\n",
      "Thu Feb  8 03:40:52 2018\n",
      "Done!\n",
      "EV\n",
      "(489510, 13)\n",
      "web/flightdelay/save/model_cols_EV.pkl saved\n",
      "web/flightdelay/save/model_scaler_EV.pkl saved\n"
     ]
    },
    {
     "name": "stderr",
     "output_type": "stream",
     "text": [
      "C:\\ProgramData\\Anaconda3\\lib\\site-packages\\pandas\\core\\indexing.py:517: SettingWithCopyWarning: \n",
      "A value is trying to be set on a copy of a slice from a DataFrame.\n",
      "Try using .loc[row_indexer,col_indexer] = value instead\n",
      "\n",
      "See the caveats in the documentation: http://pandas.pydata.org/pandas-docs/stable/indexing.html#indexing-view-versus-copy\n",
      "  self.obj[item] = s\n"
     ]
    },
    {
     "name": "stdout",
     "output_type": "stream",
     "text": [
      "Lancement du calcul avec loss = epsilon_insensitive , ratio = 0\n",
      "SGD regression : MAE = 21.298\n",
      "best_params_= {'alpha': 9.9999999999999995e-07}\n",
      "web/flightdelay/save/model_SGD_EV.pkl saved\n",
      "Thu Feb  8 04:33:33 2018\n",
      "Done!\n",
      "F9\n",
      "(94506, 13)\n",
      "web/flightdelay/save/model_cols_F9.pkl saved\n",
      "web/flightdelay/save/model_scaler_F9.pkl saved\n",
      "Lancement du calcul avec loss = epsilon_insensitive , ratio = 0\n"
     ]
    },
    {
     "name": "stderr",
     "output_type": "stream",
     "text": [
      "C:\\ProgramData\\Anaconda3\\lib\\site-packages\\pandas\\core\\indexing.py:517: SettingWithCopyWarning: \n",
      "A value is trying to be set on a copy of a slice from a DataFrame.\n",
      "Try using .loc[row_indexer,col_indexer] = value instead\n",
      "\n",
      "See the caveats in the documentation: http://pandas.pydata.org/pandas-docs/stable/indexing.html#indexing-view-versus-copy\n",
      "  self.obj[item] = s\n"
     ]
    },
    {
     "name": "stdout",
     "output_type": "stream",
     "text": [
      "SGD regression : MAE = 24.722\n",
      "best_params_= {'alpha': 9.9999999999999995e-07}\n",
      "web/flightdelay/save/model_SGD_F9.pkl saved\n",
      "Thu Feb  8 04:38:33 2018\n",
      "Done!\n",
      "HA\n",
      "(76334, 13)\n",
      "web/flightdelay/save/model_cols_HA.pkl saved\n",
      "web/flightdelay/save/model_scaler_HA.pkl saved\n",
      "Lancement du calcul avec loss = epsilon_insensitive , ratio = 0\n"
     ]
    },
    {
     "name": "stderr",
     "output_type": "stream",
     "text": [
      "C:\\ProgramData\\Anaconda3\\lib\\site-packages\\pandas\\core\\indexing.py:517: SettingWithCopyWarning: \n",
      "A value is trying to be set on a copy of a slice from a DataFrame.\n",
      "Try using .loc[row_indexer,col_indexer] = value instead\n",
      "\n",
      "See the caveats in the documentation: http://pandas.pydata.org/pandas-docs/stable/indexing.html#indexing-view-versus-copy\n",
      "  self.obj[item] = s\n"
     ]
    },
    {
     "name": "stdout",
     "output_type": "stream",
     "text": [
      "SGD regression : MAE = 9.291\n",
      "best_params_= {'alpha': 9.9999999999999995e-07}\n",
      "web/flightdelay/save/model_SGD_HA.pkl saved\n",
      "Thu Feb  8 04:41:25 2018\n",
      "Done!\n",
      "NK\n",
      "(135371, 13)\n",
      "web/flightdelay/save/model_cols_NK.pkl saved\n",
      "web/flightdelay/save/model_scaler_NK.pkl saved\n",
      "Lancement du calcul avec loss = epsilon_insensitive , ratio = 0\n"
     ]
    },
    {
     "name": "stderr",
     "output_type": "stream",
     "text": [
      "C:\\ProgramData\\Anaconda3\\lib\\site-packages\\pandas\\core\\indexing.py:517: SettingWithCopyWarning: \n",
      "A value is trying to be set on a copy of a slice from a DataFrame.\n",
      "Try using .loc[row_indexer,col_indexer] = value instead\n",
      "\n",
      "See the caveats in the documentation: http://pandas.pydata.org/pandas-docs/stable/indexing.html#indexing-view-versus-copy\n",
      "  self.obj[item] = s\n"
     ]
    },
    {
     "name": "stdout",
     "output_type": "stream",
     "text": [
      "SGD regression : MAE = 22.555\n",
      "best_params_= {'alpha': 9.9999999999999995e-07}\n",
      "web/flightdelay/save/model_SGD_NK.pkl saved\n",
      "Thu Feb  8 04:47:53 2018\n",
      "Done!\n",
      "OO\n",
      "(593938, 13)\n",
      "web/flightdelay/save/model_cols_OO.pkl saved\n",
      "web/flightdelay/save/model_scaler_OO.pkl saved\n",
      "Lancement du calcul avec loss = epsilon_insensitive , ratio = 0\n"
     ]
    },
    {
     "name": "stderr",
     "output_type": "stream",
     "text": [
      "C:\\ProgramData\\Anaconda3\\lib\\site-packages\\pandas\\core\\indexing.py:517: SettingWithCopyWarning: \n",
      "A value is trying to be set on a copy of a slice from a DataFrame.\n",
      "Try using .loc[row_indexer,col_indexer] = value instead\n",
      "\n",
      "See the caveats in the documentation: http://pandas.pydata.org/pandas-docs/stable/indexing.html#indexing-view-versus-copy\n",
      "  self.obj[item] = s\n"
     ]
    },
    {
     "name": "stdout",
     "output_type": "stream",
     "text": [
      "SGD regression : MAE = 19.226\n",
      "best_params_= {'alpha': 9.9999999999999995e-07}\n",
      "web/flightdelay/save/model_SGD_OO.pkl saved\n",
      "Thu Feb  8 06:00:23 2018\n",
      "Done!\n",
      "UA\n",
      "(538190, 13)\n",
      "web/flightdelay/save/model_cols_UA.pkl saved\n",
      "web/flightdelay/save/model_scaler_UA.pkl saved\n"
     ]
    },
    {
     "name": "stderr",
     "output_type": "stream",
     "text": [
      "C:\\ProgramData\\Anaconda3\\lib\\site-packages\\pandas\\core\\indexing.py:517: SettingWithCopyWarning: \n",
      "A value is trying to be set on a copy of a slice from a DataFrame.\n",
      "Try using .loc[row_indexer,col_indexer] = value instead\n",
      "\n",
      "See the caveats in the documentation: http://pandas.pydata.org/pandas-docs/stable/indexing.html#indexing-view-versus-copy\n",
      "  self.obj[item] = s\n"
     ]
    },
    {
     "name": "stdout",
     "output_type": "stream",
     "text": [
      "Lancement du calcul avec loss = epsilon_insensitive , ratio = 0\n",
      "SGD regression : MAE = 21.154\n",
      "best_params_= {'alpha': 9.9999999999999995e-07}\n",
      "web/flightdelay/save/model_SGD_UA.pkl saved\n",
      "Thu Feb  8 06:42:20 2018\n",
      "Done!\n",
      "VX\n",
      "(66500, 13)\n",
      "web/flightdelay/save/model_cols_VX.pkl saved\n",
      "web/flightdelay/save/model_scaler_VX.pkl saved\n",
      "Lancement du calcul avec loss = epsilon_insensitive , ratio = 0\n"
     ]
    },
    {
     "name": "stderr",
     "output_type": "stream",
     "text": [
      "C:\\ProgramData\\Anaconda3\\lib\\site-packages\\pandas\\core\\indexing.py:517: SettingWithCopyWarning: \n",
      "A value is trying to be set on a copy of a slice from a DataFrame.\n",
      "Try using .loc[row_indexer,col_indexer] = value instead\n",
      "\n",
      "See the caveats in the documentation: http://pandas.pydata.org/pandas-docs/stable/indexing.html#indexing-view-versus-copy\n",
      "  self.obj[item] = s\n"
     ]
    },
    {
     "name": "stdout",
     "output_type": "stream",
     "text": [
      "SGD regression : MAE = 20.650\n",
      "best_params_= {'alpha': 9.9999999999999995e-07}\n",
      "web/flightdelay/save/model_SGD_VX.pkl saved\n",
      "Thu Feb  8 06:44:55 2018\n",
      "Done!\n",
      "WN\n",
      "(1277949, 13)\n",
      "web/flightdelay/save/model_cols_WN.pkl saved\n",
      "web/flightdelay/save/model_scaler_WN.pkl saved\n"
     ]
    },
    {
     "name": "stderr",
     "output_type": "stream",
     "text": [
      "C:\\ProgramData\\Anaconda3\\lib\\site-packages\\pandas\\core\\indexing.py:517: SettingWithCopyWarning: \n",
      "A value is trying to be set on a copy of a slice from a DataFrame.\n",
      "Try using .loc[row_indexer,col_indexer] = value instead\n",
      "\n",
      "See the caveats in the documentation: http://pandas.pydata.org/pandas-docs/stable/indexing.html#indexing-view-versus-copy\n",
      "  self.obj[item] = s\n"
     ]
    },
    {
     "name": "stdout",
     "output_type": "stream",
     "text": [
      "Lancement du calcul avec loss = epsilon_insensitive , ratio = 0\n",
      "SGD regression : MAE = 15.497\n",
      "best_params_= {'alpha': 9.9999999999999995e-07}\n",
      "web/flightdelay/save/model_SGD_WN.pkl saved\n",
      "Thu Feb  8 08:15:04 2018\n",
      "Done!\n"
     ]
    }
   ],
   "source": [
    "lst_carriers = list(sorted(set(dataraw['UNIQUE_CARRIER'])))\n",
    "for c in lst_carriers:\n",
    "    print(c)\n",
    "    df = dataraw[dataraw.UNIQUE_CARRIER == c]\n",
    "    print (df.shape)\n",
    "    df.to_csv(CT_DIR_DATA + '2016_' + c + '.csv', sep=\"\\t\", encoding='utf-8', index=False)\n",
    "    \n",
    "    TestModel(df, c)"
   ]
  },
  {
   "cell_type": "code",
   "execution_count": null,
   "metadata": {
    "collapsed": true
   },
   "outputs": [],
   "source": []
  }
 ],
 "metadata": {
  "kernelspec": {
   "display_name": "Python 3",
   "language": "python",
   "name": "python3"
  },
  "language_info": {
   "codemirror_mode": {
    "name": "ipython",
    "version": 3
   },
   "file_extension": ".py",
   "mimetype": "text/x-python",
   "name": "python",
   "nbconvert_exporter": "python",
   "pygments_lexer": "ipython3",
   "version": "3.6.3"
  }
 },
 "nbformat": 4,
 "nbformat_minor": 2
}
